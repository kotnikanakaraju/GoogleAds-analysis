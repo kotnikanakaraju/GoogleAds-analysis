{
 "cells": [
  {
   "cell_type": "code",
   "execution_count": 4,
   "id": "be4da85c",
   "metadata": {},
   "outputs": [
    {
     "data": {
      "text/plain": [
       "'edocedoc'"
      ]
     },
     "execution_count": 4,
     "metadata": {},
     "output_type": "execute_result"
    }
   ],
   "source": [
    "# 1. Write a program to print the reverse of the given string.\n",
    "# Input\n",
    "# codecode\n",
    "# Output\n",
    "# edocedoc\n",
    "# Input Constraints\n",
    "# 1<=Length of string<=100\n",
    "# Input string contains only lowercase characters ['a' to 'z'].\n",
    "\n",
    "input=\"codecode\"\n",
    "input=input[::-1]\n",
    "input"
   ]
  },
  {
   "cell_type": "code",
   "execution_count": 6,
   "id": "a88732f4",
   "metadata": {},
   "outputs": [
    {
     "name": "stdout",
     "output_type": "stream",
     "text": [
      "yes\n"
     ]
    }
   ],
   "source": [
    "# 2. Given a number, check whether it is a prime number or not.\n",
    "# Input 1\n",
    "# 3\n",
    "# Output 1\n",
    "# Yes\n",
    "# Input 2\n",
    "# 4\n",
    "# Output 2\n",
    "# No\n",
    "num = 3\n",
    "if num == 1:\n",
    "    print(num, \"is not a prime number\")\n",
    "elif num > 1:\n",
    "   for i in range(2,num):\n",
    "       if (num % i) == 0:\n",
    "           print(num,\"is not a prime number\")\n",
    "           print(i,\"times\",num//i,\"is\",num)\n",
    "           break\n",
    "   else:\n",
    "       print(\"yes\")\n",
    "else:\n",
    "   print(\"No\")"
   ]
  },
  {
   "cell_type": "code",
   "execution_count": 7,
   "id": "0e2ec778",
   "metadata": {},
   "outputs": [
    {
     "name": "stdout",
     "output_type": "stream",
     "text": [
      "6054854654\n"
     ]
    }
   ],
   "source": [
    "# Given an array of numbers, arrange them in a way that it forms the largest value.\n",
    "# Input\n",
    "# [54, 546, 548, 60]\n",
    "# Output\n",
    "# 6054854654\n",
    "def largestNumber(array):  \n",
    "    if len(array)==1: \n",
    "        return str(array[0])\n",
    "    for i in range(len(array)):\n",
    "        array[i]=str(array[i])\n",
    "    for i in range(len(array)):\n",
    "        for j in range(1+i,len(array)):\n",
    "            if array[j]+array[i]>array[i]+array[j]:\n",
    "                array[i],array[j]=array[j],array[i]\n",
    "    result=''.join(array)\n",
    "    if(result=='0'*len(result)):\n",
    "        return '0'\n",
    "    else:\n",
    "        return result\n",
    "         \n",
    "         \n",
    "if __name__ == \"__main__\":\n",
    "    a = [54, 546, 548, 60]\n",
    "    print(largestNumber(a))"
   ]
  },
  {
   "cell_type": "code",
   "execution_count": 9,
   "id": "b92aac26",
   "metadata": {},
   "outputs": [
    {
     "name": "stdout",
     "output_type": "stream",
     "text": [
      "889\n"
     ]
    }
   ],
   "source": [
    "# Given a number N, print reverse of number N.\n",
    "# Input\n",
    "# 988\n",
    "# Output\n",
    "# 889\n",
    "# Note\n",
    "# Do not print leading zeros in output.\n",
    "# For example N = 100\n",
    "# Reverse of N should be 1 not 001.\n",
    "\n",
    "n = 988\n",
    "rev = 0\n",
    " \n",
    "while(n > 0):\n",
    "    a = n % 10\n",
    "    rev = rev * 10 + a\n",
    "    n = n // 10\n",
    " \n",
    "print(rev)"
   ]
  },
  {
   "cell_type": "code",
   "execution_count": 10,
   "id": "01ffed22",
   "metadata": {},
   "outputs": [
    {
     "name": "stdout",
     "output_type": "stream",
     "text": [
      "548 54\n"
     ]
    }
   ],
   "source": [
    "# Given an array of numbers, find the maximum and minimum element in the array.\n",
    "# Input\n",
    "# [54, 546, 548, 60]\n",
    "# Output\n",
    "# 548 54\n",
    "\n",
    "list=[54,546,548,60]\n",
    "print(max(list),min(list))"
   ]
  },
  {
   "cell_type": "code",
   "execution_count": null,
   "id": "03316fde",
   "metadata": {},
   "outputs": [],
   "source": []
  }
 ],
 "metadata": {
  "kernelspec": {
   "display_name": "Python 3 (ipykernel)",
   "language": "python",
   "name": "python3"
  },
  "language_info": {
   "codemirror_mode": {
    "name": "ipython",
    "version": 3
   },
   "file_extension": ".py",
   "mimetype": "text/x-python",
   "name": "python",
   "nbconvert_exporter": "python",
   "pygments_lexer": "ipython3",
   "version": "3.9.13"
  }
 },
 "nbformat": 4,
 "nbformat_minor": 5
}
